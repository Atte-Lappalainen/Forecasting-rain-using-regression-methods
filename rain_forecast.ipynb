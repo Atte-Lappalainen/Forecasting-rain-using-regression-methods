{
 "cells": [
  {
   "cell_type": "code",
   "execution_count": 1,
   "id": "917f560f-d3f3-4f8a-8b59-2a3c2c23b40f",
   "metadata": {
    "tags": []
   },
   "outputs": [
    {
     "data": {
      "text/html": [
       "<div>\n",
       "<style scoped>\n",
       "    .dataframe tbody tr th:only-of-type {\n",
       "        vertical-align: middle;\n",
       "    }\n",
       "\n",
       "    .dataframe tbody tr th {\n",
       "        vertical-align: top;\n",
       "    }\n",
       "\n",
       "    .dataframe thead th {\n",
       "        text-align: right;\n",
       "    }\n",
       "</style>\n",
       "<table border=\"1\" class=\"dataframe\">\n",
       "  <thead>\n",
       "    <tr style=\"text-align: right;\">\n",
       "      <th></th>\n",
       "      <th>Year</th>\n",
       "      <th>m</th>\n",
       "      <th>d</th>\n",
       "      <th>Time</th>\n",
       "      <th>Time zone</th>\n",
       "      <th>Precipitation amount (mm)</th>\n",
       "      <th>Air temperature (degC)</th>\n",
       "      <th>Maximum temperature (degC)</th>\n",
       "      <th>Minimum temperature (degC)</th>\n",
       "    </tr>\n",
       "  </thead>\n",
       "  <tbody>\n",
       "    <tr>\n",
       "      <th>0</th>\n",
       "      <td>2013</td>\n",
       "      <td>1</td>\n",
       "      <td>1</td>\n",
       "      <td>00:00</td>\n",
       "      <td>UTC</td>\n",
       "      <td>5.5</td>\n",
       "      <td>2.4</td>\n",
       "      <td>3</td>\n",
       "      <td>1.2</td>\n",
       "    </tr>\n",
       "    <tr>\n",
       "      <th>1</th>\n",
       "      <td>2013</td>\n",
       "      <td>1</td>\n",
       "      <td>2</td>\n",
       "      <td>00:00</td>\n",
       "      <td>UTC</td>\n",
       "      <td>2.5</td>\n",
       "      <td>1.6</td>\n",
       "      <td>2.7</td>\n",
       "      <td>1.2</td>\n",
       "    </tr>\n",
       "    <tr>\n",
       "      <th>2</th>\n",
       "      <td>2013</td>\n",
       "      <td>1</td>\n",
       "      <td>3</td>\n",
       "      <td>00:00</td>\n",
       "      <td>UTC</td>\n",
       "      <td>1.3</td>\n",
       "      <td>0.3</td>\n",
       "      <td>1.3</td>\n",
       "      <td>-0.4</td>\n",
       "    </tr>\n",
       "    <tr>\n",
       "      <th>3</th>\n",
       "      <td>2013</td>\n",
       "      <td>1</td>\n",
       "      <td>4</td>\n",
       "      <td>00:00</td>\n",
       "      <td>UTC</td>\n",
       "      <td>0.5</td>\n",
       "      <td>0.9</td>\n",
       "      <td>1.3</td>\n",
       "      <td>-0.3</td>\n",
       "    </tr>\n",
       "    <tr>\n",
       "      <th>4</th>\n",
       "      <td>2013</td>\n",
       "      <td>1</td>\n",
       "      <td>5</td>\n",
       "      <td>00:00</td>\n",
       "      <td>UTC</td>\n",
       "      <td>-1.0</td>\n",
       "      <td>-3.1</td>\n",
       "      <td>1.1</td>\n",
       "      <td>-4.4</td>\n",
       "    </tr>\n",
       "    <tr>\n",
       "      <th>5</th>\n",
       "      <td>2013</td>\n",
       "      <td>1</td>\n",
       "      <td>6</td>\n",
       "      <td>00:00</td>\n",
       "      <td>UTC</td>\n",
       "      <td>-1.0</td>\n",
       "      <td>-5.3</td>\n",
       "      <td>-4.1</td>\n",
       "      <td>-6.2</td>\n",
       "    </tr>\n",
       "    <tr>\n",
       "      <th>6</th>\n",
       "      <td>2013</td>\n",
       "      <td>1</td>\n",
       "      <td>7</td>\n",
       "      <td>00:00</td>\n",
       "      <td>UTC</td>\n",
       "      <td>1.2</td>\n",
       "      <td>-5.4</td>\n",
       "      <td>-2.2</td>\n",
       "      <td>-8.1</td>\n",
       "    </tr>\n",
       "    <tr>\n",
       "      <th>7</th>\n",
       "      <td>2013</td>\n",
       "      <td>1</td>\n",
       "      <td>8</td>\n",
       "      <td>00:00</td>\n",
       "      <td>UTC</td>\n",
       "      <td>2.4</td>\n",
       "      <td>-0.9</td>\n",
       "      <td>-0.3</td>\n",
       "      <td>-3.1</td>\n",
       "    </tr>\n",
       "    <tr>\n",
       "      <th>8</th>\n",
       "      <td>2013</td>\n",
       "      <td>1</td>\n",
       "      <td>9</td>\n",
       "      <td>00:00</td>\n",
       "      <td>UTC</td>\n",
       "      <td>0.7</td>\n",
       "      <td>-1.1</td>\n",
       "      <td>0.1</td>\n",
       "      <td>-2.5</td>\n",
       "    </tr>\n",
       "    <tr>\n",
       "      <th>9</th>\n",
       "      <td>2013</td>\n",
       "      <td>1</td>\n",
       "      <td>10</td>\n",
       "      <td>00:00</td>\n",
       "      <td>UTC</td>\n",
       "      <td>0.2</td>\n",
       "      <td>-4.1</td>\n",
       "      <td>-</td>\n",
       "      <td>-</td>\n",
       "    </tr>\n",
       "  </tbody>\n",
       "</table>\n",
       "</div>"
      ],
      "text/plain": [
       "   Year  m   d   Time Time zone  Precipitation amount (mm)  \\\n",
       "0  2013  1   1  00:00       UTC                        5.5   \n",
       "1  2013  1   2  00:00       UTC                        2.5   \n",
       "2  2013  1   3  00:00       UTC                        1.3   \n",
       "3  2013  1   4  00:00       UTC                        0.5   \n",
       "4  2013  1   5  00:00       UTC                       -1.0   \n",
       "5  2013  1   6  00:00       UTC                       -1.0   \n",
       "6  2013  1   7  00:00       UTC                        1.2   \n",
       "7  2013  1   8  00:00       UTC                        2.4   \n",
       "8  2013  1   9  00:00       UTC                        0.7   \n",
       "9  2013  1  10  00:00       UTC                        0.2   \n",
       "\n",
       "  Air temperature (degC) Maximum temperature (degC) Minimum temperature (degC)  \n",
       "0                    2.4                          3                        1.2  \n",
       "1                    1.6                        2.7                        1.2  \n",
       "2                    0.3                        1.3                       -0.4  \n",
       "3                    0.9                        1.3                       -0.3  \n",
       "4                   -3.1                        1.1                       -4.4  \n",
       "5                   -5.3                       -4.1                       -6.2  \n",
       "6                   -5.4                       -2.2                       -8.1  \n",
       "7                   -0.9                       -0.3                       -3.1  \n",
       "8                   -1.1                        0.1                       -2.5  \n",
       "9                   -4.1                          -                          -  "
      ]
     },
     "execution_count": 1,
     "metadata": {},
     "output_type": "execute_result"
    }
   ],
   "source": [
    "import numpy as np\n",
    "import pandas as pd\n",
    "import matplotlib.pyplot as plt\n",
    "import seaborn as sns  #data visualization library\n",
    "from sklearn.linear_model import LogisticRegression\n",
    "from sklearn.metrics import accuracy_score, confusion_matrix  # evaluation metrics\n",
    "from sklearn.model_selection import train_test_split\n",
    "from sklearn.decomposition import PCA\n",
    "from sklearn.preprocessing import PolynomialFeatures  \n",
    "\n",
    "\n",
    "# get data\n",
    "df = pd.read_csv('weather_data.csv')\n",
    "data_matrix = df.to_numpy()\n",
    "\n",
    "df.head(10)\n",
    "    \n"
   ]
  },
  {
   "cell_type": "code",
   "execution_count": 2,
   "id": "1e23df7c-8374-4a9f-89ad-f194d6cb77d6",
   "metadata": {
    "tags": []
   },
   "outputs": [
    {
     "name": "stdout",
     "output_type": "stream",
     "text": [
      "3652\n",
      "0\n",
      "(3652, 2)\n",
      "(3652,)\n"
     ]
    }
   ],
   "source": [
    "print(data_matrix.shape[0])\n",
    "count = 0\n",
    "s = 0\n",
    "\n",
    "    \n",
    "print(count)\n",
    "            \n",
    "temp_v = df['Air temperature (degC)'].to_numpy()  \n",
    "pre_v = df['Precipitation amount (mm)'].to_numpy()\n",
    "for k in range(len(pre_v)):\n",
    "    if pre_v[k] == -1:\n",
    "        pre_v[k] = 0.\n",
    "        \n",
    "# create columns of shifted data\n",
    "T_1 = (np.concatenate((temp_v[::-1],[\"-\"]),axis = 0)[::-1])[0:3652]\n",
    "T_2 = (np.concatenate((temp_v[::-1],[\"-\",\"-\"]),axis = 0)[::-1])[0:3652]\n",
    "T_3 = (np.concatenate((temp_v[::-1],[\"-\",\"-\",\"-\"]),axis = 0)[::-1])[0:3652]\n",
    "T_4 = (np.concatenate((temp_v[::-1],[\"-\",\"-\",\"-\",\"-\"]),axis = 0)[::-1])[0:3652]\n",
    "\n",
    "\n",
    "P_1 = (np.concatenate((pre_v[::-1],[\"-\"]),axis = 0)[::-1])[0:3652]\n",
    "P_2 = (np.concatenate((pre_v[::-1],[\"-\",\"-\"]),axis = 0)[::-1])[0:3652]\n",
    "P_3 = (np.concatenate((pre_v[::-1],[\"-\",\"-\",\"-\"]),axis = 0)[::-1])[0:3652]\n",
    "P_4 = (np.concatenate((pre_v[::-1],[\"-\",\"-\",\"-\",\"-\"]),axis = 0)[::-1])[0:3652]\n",
    "    \n",
    "\n",
    "# feature matrix\n",
    "features = df\n",
    "features = features.drop(['Year','d','Time','Time zone','Air temperature (degC)','Maximum temperature (degC)','Minimum temperature (degC)'],axis=1)\n",
    "\n",
    "print(features.shape)\n",
    "print(T_1.shape)\n",
    "\n",
    "features = features.assign(T1 = T_1)\n",
    "features = features.assign(T2 = T_2)\n",
    "features = features.assign(T3 = T_3)\n",
    "features = features.assign(T4 = T_4)\n",
    "\n",
    "\n",
    "features = features.assign(P1 = P_1)\n",
    "features = features.assign(P2 = P_2)\n",
    "features = features.assign(P3 = P_3)\n",
    "features = features.assign(P4 = P_4)"
   ]
  },
  {
   "cell_type": "code",
   "execution_count": 3,
   "id": "5de3c457-da5a-46c7-b972-d8c50193b7f1",
   "metadata": {
    "tags": []
   },
   "outputs": [
    {
     "name": "stdout",
     "output_type": "stream",
     "text": [
      "s 1\n",
      "[66.06 60.6  35.92 36.64 40.57 63.01 49.74 83.61 56.24 68.46 71.2  71.74]\n"
     ]
    },
    {
     "data": {
      "text/plain": [
       "Text(0.5, 0, 'Month')"
      ]
     },
     "execution_count": 3,
     "metadata": {},
     "output_type": "execute_result"
    },
    {
     "data": {
      "image/png": "[encoded data removed]",
      "text/plain": [
       "<Figure size 1200x500 with 1 Axes>"
      ]
     },
     "metadata": {},
     "output_type": "display_data"
    }
   ],
   "source": [
    "# create precipitation histogramm\n",
    "\n",
    "month_pre = [0,0,0,0,0,0,0,0,0,0,0,0]\n",
    "print(\"s\",features.to_numpy()[1,0])\n",
    "\n",
    "for v in range(len(features)):\n",
    "    month_pre[int(features.to_numpy()[v,0])-1] += features.to_numpy()[v,1]\n",
    "    \n",
    "        \n",
    "month_pre = month_pre * np.linspace(0.1,0.1,12)\n",
    "print(month_pre)\n",
    "features.head(10)\n",
    "\n",
    "fig, ax1 = plt.subplots(figsize=(12, 5))\n",
    "color = 'tab:blue'\n",
    "ax1.bar(1+np.arange(12), month_pre, color=color)\n",
    "ax1.set_xticks(1+np.arange(12, step=1))\n",
    "ax1.tick_params(axis='y', labelcolor=color)\n",
    "ax1.set_ylabel(\"Precipitation (mm/month)\", color=color)\n",
    "ax1.set_xlabel(\"Month\")"
   ]
  },
  {
   "cell_type": "code",
   "execution_count": 4,
   "id": "23e1da0e-fda0-4788-b99b-ffd5a91c16a2",
   "metadata": {
    "tags": []
   },
   "outputs": [],
   "source": [
    "#find indecies of missing data\n",
    "missing_list =[]\n",
    "for i in range(features.shape[0]):\n",
    "    s = 0\n",
    "    \n",
    "    for j in range(10):\n",
    "        if features.to_numpy()[i,j] == \"-\":\n",
    "            s += 1\n",
    "            break\n",
    "    if s > 0:\n",
    "        missing_list.append(i)\n",
    "        count += 1\n"
   ]
  },
  {
   "cell_type": "code",
   "execution_count": 5,
   "id": "a6395cea-8f95-44e2-9e7d-6f0e9e024c73",
   "metadata": {
    "tags": []
   },
   "outputs": [
    {
     "name": "stdout",
     "output_type": "stream",
     "text": [
      "(3427, 10)\n"
     ]
    },
    {
     "data": {
      "text/html": [
       "<div>\n",
       "<style scoped>\n",
       "    .dataframe tbody tr th:only-of-type {\n",
       "        vertical-align: middle;\n",
       "    }\n",
       "\n",
       "    .dataframe tbody tr th {\n",
       "        vertical-align: top;\n",
       "    }\n",
       "\n",
       "    .dataframe thead th {\n",
       "        text-align: right;\n",
       "    }\n",
       "</style>\n",
       "<table border=\"1\" class=\"dataframe\">\n",
       "  <thead>\n",
       "    <tr style=\"text-align: right;\">\n",
       "      <th></th>\n",
       "      <th>m</th>\n",
       "      <th>T1</th>\n",
       "      <th>T2</th>\n",
       "      <th>T3</th>\n",
       "      <th>T4</th>\n",
       "      <th>P1</th>\n",
       "      <th>P2</th>\n",
       "      <th>P3</th>\n",
       "      <th>P4</th>\n",
       "    </tr>\n",
       "  </thead>\n",
       "  <tbody>\n",
       "    <tr>\n",
       "      <th>0</th>\n",
       "      <td>1</td>\n",
       "      <td>0.9</td>\n",
       "      <td>0.3</td>\n",
       "      <td>1.6</td>\n",
       "      <td>2.4</td>\n",
       "      <td>0.5</td>\n",
       "      <td>1.3</td>\n",
       "      <td>2.5</td>\n",
       "      <td>5.5</td>\n",
       "    </tr>\n",
       "    <tr>\n",
       "      <th>1</th>\n",
       "      <td>1</td>\n",
       "      <td>-3.1</td>\n",
       "      <td>0.9</td>\n",
       "      <td>0.3</td>\n",
       "      <td>1.6</td>\n",
       "      <td>0.0</td>\n",
       "      <td>0.5</td>\n",
       "      <td>1.3</td>\n",
       "      <td>2.5</td>\n",
       "    </tr>\n",
       "    <tr>\n",
       "      <th>2</th>\n",
       "      <td>1</td>\n",
       "      <td>-5.3</td>\n",
       "      <td>-3.1</td>\n",
       "      <td>0.9</td>\n",
       "      <td>0.3</td>\n",
       "      <td>0.0</td>\n",
       "      <td>0.0</td>\n",
       "      <td>0.5</td>\n",
       "      <td>1.3</td>\n",
       "    </tr>\n",
       "    <tr>\n",
       "      <th>3</th>\n",
       "      <td>1</td>\n",
       "      <td>-5.4</td>\n",
       "      <td>-5.3</td>\n",
       "      <td>-3.1</td>\n",
       "      <td>0.9</td>\n",
       "      <td>1.2</td>\n",
       "      <td>0.0</td>\n",
       "      <td>0.0</td>\n",
       "      <td>0.5</td>\n",
       "    </tr>\n",
       "    <tr>\n",
       "      <th>4</th>\n",
       "      <td>1</td>\n",
       "      <td>-0.9</td>\n",
       "      <td>-5.4</td>\n",
       "      <td>-5.3</td>\n",
       "      <td>-3.1</td>\n",
       "      <td>2.4</td>\n",
       "      <td>1.2</td>\n",
       "      <td>0.0</td>\n",
       "      <td>0.0</td>\n",
       "    </tr>\n",
       "  </tbody>\n",
       "</table>\n",
       "</div>"
      ],
      "text/plain": [
       "   m    T1    T2    T3    T4   P1   P2   P3   P4\n",
       "0  1   0.9   0.3   1.6   2.4  0.5  1.3  2.5  5.5\n",
       "1  1  -3.1   0.9   0.3   1.6  0.0  0.5  1.3  2.5\n",
       "2  1  -5.3  -3.1   0.9   0.3  0.0  0.0  0.5  1.3\n",
       "3  1  -5.4  -5.3  -3.1   0.9  1.2  0.0  0.0  0.5\n",
       "4  1  -0.9  -5.4  -5.3  -3.1  2.4  1.2  0.0  0.0"
      ]
     },
     "execution_count": 5,
     "metadata": {},
     "output_type": "execute_result"
    }
   ],
   "source": [
    "# drop rows with missing data\n",
    "new_features = features.drop(missing_list,axis = 0)\n",
    "new_features.index = range(new_features.shape[0])\n",
    "print(new_features.shape)\n",
    "\n",
    "new_features.drop(['Precipitation amount (mm)'],axis = 1).head()"
   ]
  },
  {
   "cell_type": "code",
   "execution_count": 6,
   "id": "a5496461-5d99-41df-9eb1-21755824fc4c",
   "metadata": {
    "tags": []
   },
   "outputs": [
    {
     "name": "stdout",
     "output_type": "stream",
     "text": [
      "(3427,)\n",
      "(3427, 9)\n"
     ]
    }
   ],
   "source": [
    "minval = new_features['Precipitation amount (mm)'].min()\n",
    "maxval = new_features['Precipitation amount (mm)'].max()\n",
    "\n",
    "# multi_labels = [0,1,2,3]\n",
    "# multi_cut_bins = [minval,0.3,1,5,maxval]\n",
    "multi_labels = [0,1]\n",
    "multi_cut_bins = [minval,1,maxval]\n",
    "\n",
    "# create labels\n",
    "y = pd.cut(new_features['Precipitation amount (mm)'],\\\n",
    "                            bins = multi_cut_bins, labels = multi_labels,include_lowest = True)\n",
    "X = new_features.drop(['Precipitation amount (mm)'],axis = 1)\n",
    "y = y.to_numpy()\n",
    "X = X.to_numpy()\n",
    "print(y.shape)\n",
    "print(X.shape)"
   ]
  },
  {
   "cell_type": "code",
   "execution_count": 7,
   "id": "b9c9bdbf-9aed-49e0-a651-857f5cef2b90",
   "metadata": {
    "tags": []
   },
   "outputs": [
    {
     "name": "stdout",
     "output_type": "stream",
     "text": [
      "training set length: 2398 validation set length: 1029\n"
     ]
    }
   ],
   "source": [
    "# split into training and validation sets\n",
    "X_train, X_val,  y_train, y_val = train_test_split(X, y, test_size=0.3, random_state=22)\n",
    "print(\"training set length:\",len(y_train) ,\"validation set length:\",len(y_val))"
   ]
  },
  {
   "cell_type": "code",
   "execution_count": 9,
   "id": "3d9514ad-ada9-42fb-8cf7-26a928301c1c",
   "metadata": {
    "tags": []
   },
   "outputs": [
    {
     "name": "stdout",
     "output_type": "stream",
     "text": [
      "[[518 187]\n",
      " [207 117]] 0.6171039844509232\n"
     ]
    },
    {
     "name": "stderr",
     "output_type": "stream",
     "text": [
      "/opt/software/lib/python3.10/site-packages/sklearn/utils/optimize.py:210: ConvergenceWarning: newton-cg failed to converge. Increase the number of iterations.\n",
      "  warnings.warn(\n"
     ]
    }
   ],
   "source": [
    "clf = LogisticRegression(random_state = 22,solver = 'newton-cg')\n",
    "poly = PolynomialFeatures(degree = 4)    # generate polynomial features\n",
    "X_train_poly = poly.fit_transform(X_train[400:1500]) \n",
    "clf = clf.fit(X_train_poly,y_train[400:1500])\n",
    "\n",
    "\n",
    "\n",
    "X_val_poly = poly.transform(X_val)\n",
    "y_pred = clf.predict(X_val_poly)\n",
    "acc = accuracy_score(y_val,y_pred)\n",
    "\n",
    "c_mat = confusion_matrix(y_val,y_pred)\n",
    "print(c_mat,acc)\n"
   ]
  },
  {
   "cell_type": "code",
   "execution_count": null,
   "id": "85d27ae7-2768-44f4-bd20-acb13d7c7b55",
   "metadata": {
    "tags": []
   },
   "outputs": [],
   "source": []
  },
  {
   "cell_type": "code",
   "execution_count": 11,
   "id": "5ec604fb-b569-41c8-a9e6-cae36a4ddc9e",
   "metadata": {
    "tags": []
   },
   "outputs": [],
   "source": [
    "\n"
   ]
  },
  {
   "cell_type": "code",
   "execution_count": null,
   "id": "d3e28f7c-58fb-4f9f-b904-633315665566",
   "metadata": {},
   "outputs": [],
   "source": []
  }
 ],
 "metadata": {
  "kernelspec": {
   "display_name": "Python 3",
   "language": "python",
   "name": "python3"
  },
  "language_info": {
   "codemirror_mode": {
    "name": "ipython",
    "version": 3
   },
   "file_extension": ".py",
   "mimetype": "text/x-python",
   "name": "python",
   "nbconvert_exporter": "python",
   "pygments_lexer": "ipython3",
   "version": "3.10.8"
  }
 },
 "nbformat": 4,
 "nbformat_minor": 5
}
